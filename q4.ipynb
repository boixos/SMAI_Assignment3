{
  "nbformat": 4,
  "nbformat_minor": 0,
  "metadata": {
    "colab": {
      "name": "SMAI3_Q4.ipynb",
      "provenance": []
    },
    "kernelspec": {
      "name": "python3",
      "display_name": "Python 3"
    },
    "language_info": {
      "name": "python"
    },
    "accelerator": "GPU"
  },
  "cells": [
    {
      "cell_type": "code",
      "metadata": {
        "id": "q9Fpz_163Ep4"
      },
      "source": [
        "from __future__ import absolute_import\n",
        "from __future__ import print_function\n",
        "\n",
        "import random\n",
        "from keras.models import Model\n",
        "from keras.layers import Input, Flatten, Dense, Dropout, Lambda\n",
        "# from keras.optimizers import RMSprop\n",
        "from keras import backend as K\n",
        "import keras \n",
        "from keras.datasets import mnist \n",
        "from keras.models import Sequential \n",
        "from keras.layers import Dense, Dropout \n",
        "from keras.optimizers import RMSprop, Adam, SGD, Adadelta \n",
        "import numpy as np \n",
        "import numpy as np # linear algebra\n",
        "import pandas as pd # data processing, CSV file I/O (e.g. pd.read_csv)\n",
        "\n",
        "import os\n",
        "# print(os.listdir(\"../input\"))\n",
        "import matplotlib.pyplot as plt\n",
        "get_ipython().magic(u'matplotlib inline')\n",
        "plt.style.use('ggplot')"
      ],
      "execution_count": 7,
      "outputs": []
    },
    {
      "cell_type": "code",
      "metadata": {
        "id": "GQZUyni93a9V"
      },
      "source": [
        "num_classes = 10"
      ],
      "execution_count": 17,
      "outputs": []
    },
    {
      "cell_type": "code",
      "metadata": {
        "id": "g1bB6C3F3WHO"
      },
      "source": [
        "def euclidean_distance(vects):\n",
        "    x, y = vects\n",
        "    sum_square = K.sum(K.square(x - y), axis=1, keepdims=True)\n",
        "    return K.sqrt(K.maximum(sum_square, K.epsilon()))\n",
        "\n",
        "\n",
        "def eucl_dist_output_shape(shapes):\n",
        "    shape1, shape2 = shapes\n",
        "    return (shape1[0], 1)\n"
      ],
      "execution_count": 19,
      "outputs": []
    },
    {
      "cell_type": "code",
      "metadata": {
        "id": "kuc33Urq3abF"
      },
      "source": [
        "\n",
        "def contrastive_loss(y_true, y_pred):\n",
        "    margin = 1\n",
        "    sqaure_pred = K.square(y_pred)\n",
        "    margin_square = K.square(K.maximum(margin - y_pred, 0))\n",
        "    return K.mean(y_true * sqaure_pred + (1 - y_true) * margin_square)\n"
      ],
      "execution_count": 20,
      "outputs": []
    },
    {
      "cell_type": "code",
      "metadata": {
        "id": "vauswfD970rC"
      },
      "source": [
        "def compute_accuracy(y_true, y_pred):\n",
        "    '''Compute classification accuracy with a fixed threshold on distances.\n",
        "    '''\n",
        "    pred = y_pred.ravel() < 0.5\n",
        "    return np.mean(pred == y_true)\n",
        "\n",
        "\n",
        "def accuracy(y_true, y_pred):\n",
        "    '''Compute classification accuracy with a fixed threshold on distances.\n",
        "    '''\n",
        "    return K.mean(K.equal(y_true, K.cast(y_pred < 0.5, y_true.dtype)))"
      ],
      "execution_count": 33,
      "outputs": []
    },
    {
      "cell_type": "code",
      "metadata": {
        "id": "2Mdhn6XV3gxU"
      },
      "source": [
        "\n",
        "def create_pairs(x, digit_indices):\n",
        "    pairs = []\n",
        "    labels = []\n",
        "    n = min([len(digit_indices[d]) for d in range(num_classes)]) - 1\n",
        "    for d in range(num_classes):\n",
        "        for i in range(n):\n",
        "            z1, z2 = digit_indices[d][i], digit_indices[d][i + 1]\n",
        "            pairs += [[x[z1], x[z2]]]\n",
        "            inc = random.randrange(1, num_classes)\n",
        "            dn = (d + inc) % num_classes\n",
        "            z1, z2 = digit_indices[d][i], digit_indices[dn][i]\n",
        "            pairs += [[x[z1], x[z2]]]\n",
        "            labels += [1, 0]\n",
        "    return np.array(pairs), np.array(labels)\n",
        "\n"
      ],
      "execution_count": 21,
      "outputs": []
    },
    {
      "cell_type": "code",
      "metadata": {
        "id": "c_yrSjVZ3mg8"
      },
      "source": [
        "def create_model(input_shape):\n",
        "    input = Input(shape=input_shape)\n",
        "    x = Flatten()(input)\n",
        "    x = Dense(128, activation='relu')(x)\n",
        "    x = Dropout(0.1)(x)\n",
        "    x = Dense(128, activation='relu')(x)\n",
        "    x = Dropout(0.1)(x)\n",
        "    x = Dense(128, activation='relu')(x)\n",
        "    x = Lambda(lambda  x: K.l2_normalize(x,axis=1))(x)\n",
        "    x = Lambda(lambda  x: K.l2_normalize(x,axis=1))(x)\n",
        "    return Model(input, x)\n"
      ],
      "execution_count": 22,
      "outputs": []
    },
    {
      "cell_type": "code",
      "metadata": {
        "id": "qr12h9eW4vmu",
        "outputId": "169cdb3a-5d88-480f-f43b-e8509c400653",
        "colab": {
          "base_uri": "https://localhost:8080/"
        }
      },
      "source": [
        "(x_train, y_train), (x_test, y_test) = mnist.load_data() \n",
        "x_train.shape,x_test.shape"
      ],
      "execution_count": 12,
      "outputs": [
        {
          "output_type": "stream",
          "text": [
            "Downloading data from https://storage.googleapis.com/tensorflow/tf-keras-datasets/mnist.npz\n",
            "11493376/11490434 [==============================] - 0s 0us/step\n"
          ],
          "name": "stdout"
        },
        {
          "output_type": "execute_result",
          "data": {
            "text/plain": [
              "((60000, 28, 28), (10000, 28, 28))"
            ]
          },
          "metadata": {
            "tags": []
          },
          "execution_count": 12
        }
      ]
    },
    {
      "cell_type": "code",
      "metadata": {
        "id": "ai305Qrt5GGZ"
      },
      "source": [
        "x_train = x_train.astype('float32')\n",
        "x_test = x_test.astype('float32')\n",
        "x_train /= 255\n",
        "x_test /= 255\n",
        "test_x = y_test/255\n",
        "input_shape = x_train.shape[1:]"
      ],
      "execution_count": 14,
      "outputs": []
    },
    {
      "cell_type": "code",
      "metadata": {
        "id": "yGydZJBs5jX9"
      },
      "source": [
        "digit_indices = [np.where(y_train == i)[0] for i in range(10)]\n",
        "\n",
        "tr_pairs, tr_y = create_pairs(x_train, digit_indices)\n",
        "digit_indices = [np.where(y_test == i)[0] for i in range(num_classes)]\n",
        "te_pairs, te_y = create_pairs(x_test, digit_indices)\n",
        "te_pairs = te_pairs.astype('float32')\n",
        "tr_pairs = tr_pairs.astype('float32')\n",
        "te_y = te_y.astype('float32')\n",
        "tr_y = tr_y.astype('float32')\n"
      ],
      "execution_count": 29,
      "outputs": []
    },
    {
      "cell_type": "code",
      "metadata": {
        "id": "gvr87ceB6NCU"
      },
      "source": [
        "base_model = create_model(input_shape)\n",
        "\n",
        "input_a = Input(shape=input_shape)\n",
        "input_b = Input(shape=input_shape)\n",
        "\n",
        "# because we re-use the same instance `base_network`,\n",
        "# the weights of the network\n",
        "# will be shared across the two branches\n",
        "processed_a = base_model(input_a)\n",
        "processed_b = base_model(input_b)\n"
      ],
      "execution_count": 30,
      "outputs": []
    },
    {
      "cell_type": "code",
      "metadata": {
        "id": "6KCfv_096brB"
      },
      "source": [
        "distance = Lambda(euclidean_distance, output_shape=eucl_dist_output_shape)([processed_a, processed_b])\n",
        "\n",
        "model = Model([input_a, input_b], distance)\n",
        "opt = RMSprop()\n"
      ],
      "execution_count": 31,
      "outputs": []
    },
    {
      "cell_type": "code",
      "metadata": {
        "id": "xrISqw_l6nXD",
        "outputId": "6d40245c-b2f3-42f7-839e-c034fac61785",
        "colab": {
          "base_uri": "https://localhost:8080/"
        }
      },
      "source": [
        "model.compile(loss=contrastive_loss, optimizer=opt, metrics=['accuracy'])\n",
        "# train\n",
        "history = model.fit([tr_pairs[:, 0], tr_pairs[:, 1]], tr_y,\n",
        "          batch_size=128,\n",
        "          epochs=20,\n",
        "          validation_data=([te_pairs[:, 0], te_pairs[:, 1]], te_y))\n",
        "\n",
        "# compute final accuracy on training and test sets\n",
        "y_pred_tr = model.predict([tr_pairs[:, 0], tr_pairs[:, 1]])\n",
        "tr_acc = compute_accuracy(tr_y, y_pred_tr)\n",
        "y_pred_te = model.predict([te_pairs[:, 0], te_pairs[:, 1]])\n",
        "te_acc = compute_accuracy(te_y, y_pred_te)\n",
        "\n",
        "print('* Accuracy on training set: %0.2f%%' % (100 * tr_acc))\n",
        "print('* Accuracy on test set: %0.2f%%' % (100 * te_acc))"
      ],
      "execution_count": 34,
      "outputs": [
        {
          "output_type": "stream",
          "text": [
            "Epoch 1/20\n",
            "847/847 [==============================] - 5s 4ms/step - loss: 0.0153 - accuracy: 0.0183 - val_loss: 0.0220 - val_accuracy: 0.0283\n",
            "Epoch 2/20\n",
            "847/847 [==============================] - 4s 4ms/step - loss: 0.0150 - accuracy: 0.0179 - val_loss: 0.0205 - val_accuracy: 0.0258\n",
            "Epoch 3/20\n",
            "847/847 [==============================] - 4s 4ms/step - loss: 0.0152 - accuracy: 0.0179 - val_loss: 0.0205 - val_accuracy: 0.0258\n",
            "Epoch 4/20\n",
            "847/847 [==============================] - 4s 4ms/step - loss: 0.0145 - accuracy: 0.0178 - val_loss: 0.0190 - val_accuracy: 0.0233\n",
            "Epoch 5/20\n",
            "847/847 [==============================] - 4s 4ms/step - loss: 0.0136 - accuracy: 0.0161 - val_loss: 0.0204 - val_accuracy: 0.0249\n",
            "Epoch 6/20\n",
            "847/847 [==============================] - 4s 4ms/step - loss: 0.0147 - accuracy: 0.0175 - val_loss: 0.0195 - val_accuracy: 0.0250\n",
            "Epoch 7/20\n",
            "847/847 [==============================] - 4s 4ms/step - loss: 0.0132 - accuracy: 0.0156 - val_loss: 0.0197 - val_accuracy: 0.0250\n",
            "Epoch 8/20\n",
            "847/847 [==============================] - 4s 4ms/step - loss: 0.0128 - accuracy: 0.0151 - val_loss: 0.0198 - val_accuracy: 0.0241\n",
            "Epoch 9/20\n",
            "847/847 [==============================] - 4s 4ms/step - loss: 0.0133 - accuracy: 0.0153 - val_loss: 0.0211 - val_accuracy: 0.0269\n",
            "Epoch 10/20\n",
            "847/847 [==============================] - 4s 4ms/step - loss: 0.0131 - accuracy: 0.0154 - val_loss: 0.0194 - val_accuracy: 0.0245\n",
            "Epoch 11/20\n",
            "847/847 [==============================] - 4s 4ms/step - loss: 0.0127 - accuracy: 0.0148 - val_loss: 0.0207 - val_accuracy: 0.0267\n",
            "Epoch 12/20\n",
            "847/847 [==============================] - 4s 4ms/step - loss: 0.0124 - accuracy: 0.0147 - val_loss: 0.0207 - val_accuracy: 0.0253\n",
            "Epoch 13/20\n",
            "847/847 [==============================] - 4s 4ms/step - loss: 0.0117 - accuracy: 0.0135 - val_loss: 0.0203 - val_accuracy: 0.0249\n",
            "Epoch 14/20\n",
            "847/847 [==============================] - 4s 4ms/step - loss: 0.0126 - accuracy: 0.0146 - val_loss: 0.0199 - val_accuracy: 0.0247\n",
            "Epoch 15/20\n",
            "847/847 [==============================] - 4s 4ms/step - loss: 0.0118 - accuracy: 0.0137 - val_loss: 0.0189 - val_accuracy: 0.0240\n",
            "Epoch 16/20\n",
            "847/847 [==============================] - 4s 4ms/step - loss: 0.0118 - accuracy: 0.0141 - val_loss: 0.0187 - val_accuracy: 0.0241\n",
            "Epoch 17/20\n",
            "847/847 [==============================] - 4s 4ms/step - loss: 0.0111 - accuracy: 0.0130 - val_loss: 0.0204 - val_accuracy: 0.0251\n",
            "Epoch 18/20\n",
            "847/847 [==============================] - 4s 4ms/step - loss: 0.0117 - accuracy: 0.0137 - val_loss: 0.0209 - val_accuracy: 0.0268\n",
            "Epoch 19/20\n",
            "847/847 [==============================] - 4s 4ms/step - loss: 0.0112 - accuracy: 0.0132 - val_loss: 0.0194 - val_accuracy: 0.0246\n",
            "Epoch 20/20\n",
            "847/847 [==============================] - 4s 4ms/step - loss: 0.0113 - accuracy: 0.0135 - val_loss: 0.0189 - val_accuracy: 0.0230\n",
            "* Accuracy on training set: 99.27%\n",
            "* Accuracy on test set: 97.70%\n"
          ],
          "name": "stdout"
        }
      ]
    },
    {
      "cell_type": "markdown",
      "metadata": {
        "id": "bV9SUMXp8JuF"
      },
      "source": [
        "The main advantages of Siamese Networks are -\n",
        "\n",
        "\n",
        "\n",
        "\n",
        "• More Robust to class Imbalance: With the aid of One-shot learning, given a few images per class\n",
        "is sufficient for Siamese Networks to recognize those images in the future.\n",
        "\n",
        "• Nice to an ensemble with the best classifier: Given that its learning mechanism is somewhat\n",
        "different from Classification, simple averaging of it with a Classifier can do much better than\n",
        "average 2 correlated Supervised models (e.g. GBM & RF classifier).\n",
        "\n",
        "• Learning from Semantic Similarity: Siamese focuses on learning embeddings (in the deeper layer)\n",
        "that place the same classes/concepts close together. Hence, can learn semantic similarity.\n",
        "\n",
        "The downsides of the Siamese Networks can be,\n",
        "\n",
        "• Needs more training time than normal networks: Since Siamese Networks involves quadratic pairs\n",
        "to learn from (to see all information available) it is slower than normal classification type of learning(pointwise learning)\n",
        "\n",
        "• Doesn’t output probabilities: Since training involves pairwise learning, it won’t output the probabilities of the prediction, but the distance from each class."
      ]
    }
  ]
}