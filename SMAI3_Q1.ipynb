{
  "nbformat": 4,
  "nbformat_minor": 0,
  "metadata": {
    "colab": {
      "name": "SMAI3_Q1.ipynb",
      "provenance": [],
      "collapsed_sections": []
    },
    "kernelspec": {
      "name": "python3",
      "display_name": "Python 3"
    },
    "language_info": {
      "name": "python"
    },
    "accelerator": "GPU"
  },
  "cells": [
    {
      "cell_type": "code",
      "metadata": {
        "id": "FRhSBfDfIE4d"
      },
      "source": [
        "import numpy as np\n",
        "import time\n",
        "\n",
        "import tensorflow as tf\n",
        "import matplotlib.pyplot as plt\n",
        "from tensorflow.keras.datasets import cifar10 "
      ],
      "execution_count": 73,
      "outputs": []
    },
    {
      "cell_type": "code",
      "metadata": {
        "id": "BZ9i5JDwPr5a"
      },
      "source": [
        "# setting class names\n",
        "class_names  =['airplane','automobile','bird','cat','deer','dog','frog','horse','ship','truck']\n",
        "\n",
        "(x_train,y_train),(x_test,y_test)=cifar10.load_data()\n",
        "\n"
      ],
      "execution_count": 74,
      "outputs": []
    },
    {
      "cell_type": "code",
      "metadata": {
        "colab": {
          "base_uri": "https://localhost:8080/",
          "height": 283
        },
        "id": "qgKBMeWXT19b",
        "outputId": "d5781f92-c9ac-453e-b3af-72503f218889"
      },
      "source": [
        "plt.imshow(x_train[5])\n"
      ],
      "execution_count": 75,
      "outputs": [
        {
          "output_type": "execute_result",
          "data": {
            "text/plain": [
              "<matplotlib.image.AxesImage at 0x7f9280b06210>"
            ]
          },
          "metadata": {
            "tags": []
          },
          "execution_count": 75
        },
        {
          "output_type": "display_data",
          "data": {
            "image/png": "[encoded data removed]",
            "text/plain": [
              "<Figure size 432x288 with 1 Axes>"
            ]
          },
          "metadata": {
            "tags": [],
            "needs_background": "light"
          }
        }
      ]
    },
    {
      "cell_type": "code",
      "metadata": {
        "colab": {
          "base_uri": "https://localhost:8080/"
        },
        "id": "mu5NQsyNQMRJ",
        "outputId": "37152d5e-c429-4021-9a1c-2e61d8b80333"
      },
      "source": [
        "x_train=x_train/255.0\n",
        "x_train.shape\n"
      ],
      "execution_count": 76,
      "outputs": [
        {
          "output_type": "execute_result",
          "data": {
            "text/plain": [
              "(50000, 32, 32, 3)"
            ]
          },
          "metadata": {
            "tags": []
          },
          "execution_count": 76
        }
      ]
    },
    {
      "cell_type": "code",
      "metadata": {
        "id": "ikLKLhw5a4Ef"
      },
      "source": [
        ""
      ],
      "execution_count": 4,
      "outputs": []
    },
    {
      "cell_type": "code",
      "metadata": {
        "colab": {
          "base_uri": "https://localhost:8080/"
        },
        "id": "6YZlDPPgQJKA",
        "outputId": "fa51d608-0d51-4238-957c-a23f09d974af"
      },
      "source": [
        "x_test=x_test/255.0\n",
        "x_test.shape"
      ],
      "execution_count": 77,
      "outputs": [
        {
          "output_type": "execute_result",
          "data": {
            "text/plain": [
              "(10000, 32, 32, 3)"
            ]
          },
          "metadata": {
            "tags": []
          },
          "execution_count": 77
        }
      ]
    },
    {
      "cell_type": "code",
      "metadata": {
        "id": "fPAV3blSa4x4"
      },
      "source": [
        "y_train = tf.keras.utils.to_categorical(y_train,10)\n",
        "y_test = tf.keras.utils.to_categorical(y_test,10)"
      ],
      "execution_count": 78,
      "outputs": []
    },
    {
      "cell_type": "code",
      "metadata": {
        "colab": {
          "base_uri": "https://localhost:8080/"
        },
        "id": "_SN3-lbrbDTx",
        "outputId": "b2cf6034-209a-415b-ea71-3b2a05ae57a2"
      },
      "source": [
        "y_test.shape,y_train.shape"
      ],
      "execution_count": 79,
      "outputs": [
        {
          "output_type": "execute_result",
          "data": {
            "text/plain": [
              "((10000, 10), (50000, 10))"
            ]
          },
          "metadata": {
            "tags": []
          },
          "execution_count": 79
        }
      ]
    },
    {
      "cell_type": "code",
      "metadata": {
        "colab": {
          "base_uri": "https://localhost:8080/",
          "height": 283
        },
        "id": "TC6X1iXoQDQ6",
        "outputId": "44b4ec77-8d3b-4517-929e-e90d3384ebed"
      },
      "source": [
        "plt.imshow(x_train[5])\n"
      ],
      "execution_count": 80,
      "outputs": [
        {
          "output_type": "execute_result",
          "data": {
            "text/plain": [
              "<matplotlib.image.AxesImage at 0x7f9280bd18d0>"
            ]
          },
          "metadata": {
            "tags": []
          },
          "execution_count": 80
        },
        {
          "output_type": "display_data",
          "data": {
            "image/png": "[encoded data removed]",
            "text/plain": [
              "<Figure size 432x288 with 1 Axes>"
            ]
          },
          "metadata": {
            "tags": [],
            "needs_background": "light"
          }
        }
      ]
    },
    {
      "cell_type": "code",
      "metadata": {
        "id": "xpG0SPoLj5WT"
      },
      "source": [
        ""
      ],
      "execution_count": null,
      "outputs": []
    },
    {
      "cell_type": "markdown",
      "metadata": {
        "id": "0ri4GJHt8ZK7"
      },
      "source": [
        "(a) No BatchNormalization\n"
      ]
    },
    {
      "cell_type": "code",
      "metadata": {
        "id": "zzX6G4P2SzR6"
      },
      "source": [
        "def make_model():\n",
        "  model = tf.keras.models.Sequential()\n",
        "  model.add(tf.keras.layers.ZeroPadding2D(padding=(1, 1), data_format=None))\n",
        "  model.add(tf.keras.layers.Conv2D(64, kernel_size=3, padding = 'same', activation = 'relu', input_shape = (32, 32, 3)))\n",
        "  model.add(tf.keras.layers.MaxPooling2D(pool_size = 2, strides = 2, padding = 'valid',data_format = None))\n",
        "  model.add(tf.keras.layers.Flatten())\n",
        "  # model.add(tf.keras.layers.Dropout(0.5,noise_shape=None,seed=None))\n",
        "  model.add(tf.keras.layers.Dropout(0.25))\n",
        "  model.add(tf.keras.layers.Dense(units=64,activation='relu'))  #acc = 64,64,\n",
        "  # model.add(tf.keras.layers.Dense(units=128,activation='relu’))\n",
        "  model.add(tf.keras.layers.Dense(10, activation='softmax'))  #acc 64\n",
        "\n",
        "  return model"
      ],
      "execution_count": 36,
      "outputs": []
    },
    {
      "cell_type": "code",
      "metadata": {
        "id": "PPPH6yR7YhCO"
      },
      "source": [
        "model = make_model() \n",
        "opt = tf.keras.optimizers.SGD(lr=0.01, momentum=0.9)\n",
        "\n",
        "# prepare model for fitting (loss, optimizer, etc)\n",
        "model.compile(\n",
        "    loss='categorical_crossentropy',  # we train 10-way classification\n",
        "    optimizer=opt,  # for SGD\n",
        "    metrics=['accuracy']  # report accuracy during training\n",
        ")"
      ],
      "execution_count": null,
      "outputs": []
    },
    {
      "cell_type": "code",
      "metadata": {
        "id": "QD5XEtFcZX5e"
      },
      "source": [
        "start_time = time.time()\n",
        "history = model.fit(x_train, y_train, epochs=20, batch_size=64, validation_data=(x_test, y_test), verbose=0)\n",
        "# model.fit()\n",
        "end_time = time.time()\n",
        "print(\"Testing time: \", end_time-start_time)"
      ],
      "execution_count": null,
      "outputs": []
    },
    {
      "cell_type": "code",
      "metadata": {
        "id": "use6GOReexF1"
      },
      "source": [
        "_,acc = model.evaluate(x_test,y_test, verbose=0)"
      ],
      "execution_count": null,
      "outputs": []
    },
    {
      "cell_type": "code",
      "metadata": {
        "colab": {
          "base_uri": "https://localhost:8080/"
        },
        "id": "5Hw2EqBbe24z",
        "outputId": "c7a56ccd-34bc-41fc-ce71-c225fa38bc58"
      },
      "source": [
        "print(_,acc)"
      ],
      "execution_count": null,
      "outputs": [
        {
          "output_type": "stream",
          "text": [
            "1.1350041627883911 0.635699987411499\n"
          ],
          "name": "stdout"
        }
      ]
    },
    {
      "cell_type": "markdown",
      "metadata": {
        "id": "wx1-PBU28fai"
      },
      "source": [
        "(b) Two Dense Layers. (Note: The last Dense layer should\n",
        "have 10 nodes as there are 10 classes. For the Dense layer\n",
        "before that, use 64 nodes.)"
      ]
    },
    {
      "cell_type": "code",
      "metadata": {
        "id": "w8DlW9_V8e9z"
      },
      "source": [
        ""
      ],
      "execution_count": null,
      "outputs": []
    },
    {
      "cell_type": "code",
      "metadata": {
        "colab": {
          "base_uri": "https://localhost:8080/"
        },
        "id": "0Iqp8lEDyi4b",
        "outputId": "ce3dc647-d757-4748-896c-212d8e3913a2"
      },
      "source": [
        "model.summary()"
      ],
      "execution_count": null,
      "outputs": [
        {
          "output_type": "stream",
          "text": [
            "Model: \"sequential_15\"\n",
            "_________________________________________________________________\n",
            "Layer (type)                 Output Shape              Param #   \n",
            "=================================================================\n",
            "zero_padding2d_15 (ZeroPaddi (None, 34, 34, 3)         0         \n",
            "_________________________________________________________________\n",
            "conv2d_15 (Conv2D)           (None, 34, 34, 64)        1792      \n",
            "_________________________________________________________________\n",
            "max_pooling2d_15 (MaxPooling (None, 17, 17, 64)        0         \n",
            "_________________________________________________________________\n",
            "flatten_15 (Flatten)         (None, 18496)             0         \n",
            "_________________________________________________________________\n",
            "dropout_14 (Dropout)         (None, 18496)             0         \n",
            "_________________________________________________________________\n",
            "dense_23 (Dense)             (None, 64)                1183808   \n",
            "_________________________________________________________________\n",
            "dense_24 (Dense)             (None, 10)                650       \n",
            "=================================================================\n",
            "Total params: 1,186,250\n",
            "Trainable params: 1,186,250\n",
            "Non-trainable params: 0\n",
            "_________________________________________________________________\n"
          ],
          "name": "stdout"
        }
      ]
    },
    {
      "cell_type": "markdown",
      "metadata": {
        "id": "85XqBeMvKmM2"
      },
      "source": [
        "(b)  Dense Layers. (Note: The last Dense layer should have 10 nodes as there are 10 classes. For the Dense layer before that, use 64 nodes.Two)\n",
        "bold textbold text\n",
        "\n",
        "\n",
        "\n",
        "```\n",
        "# This is formatted as code\n",
        "```\n",
        "\n"
      ]
    },
    {
      "cell_type": "code",
      "metadata": {
        "id": "Z83YTC6CKpkl"
      },
      "source": [
        "def make_model():\n",
        "  model = tf.keras.models.Sequential()\n",
        "  model.add(tf.keras.layers.ZeroPadding2D(padding=(2, 1), data_format=None))\n",
        "  model.add(tf.keras.layers.Conv2D(64, kernel_size=3, padding = 'same', activation = 'relu', input_shape = (32, 32, 3)))\n",
        "  model.add(tf.keras.layers.BatchNormalization())\n",
        "    # axis=-1, momentum=0.99, epsilon=0.01, center=True, scale=True,beta_initializer='zeros', gamma_initializer='ones', moving_mean_initializer='zeros',  moving_variance_initializer='ones', beta_regularizer=None,\n",
        "    # gamma_regularizer=None, beta_constraint=None, gamma_constraint=None,\n",
        "    # renorm=False, renorm_clipping=None, renorm_momentum=0.99, fused=None,\n",
        "    # trainable=True, virtual_batch_size=None, adjustment=None, name=None))\n",
        "  model.add(tf.keras.layers.MaxPooling2D(pool_size = 2, strides = 2, padding = 'valid',data_format = None))\n",
        "  model.add(tf.keras.layers.Flatten())\n",
        "  # model.add(tf.keras.layers.Dropout(0.5,noise_shape=None,seed=None))\n",
        "  model.add(tf.keras.layers.Dropout(0.25))\n",
        "  model.add(tf.keras.layers.Dense(units=64,activation='relu'))  #acc = 64,64,\n",
        "  # model.add(tf.keras.layers.Dense(units=128,activation='relu’))\n",
        "  model.add(tf.keras.layers.Dense(10, activation='softmax'))  #acc 64\n",
        "\n",
        "  return model"
      ],
      "execution_count": 41,
      "outputs": []
    },
    {
      "cell_type": "code",
      "metadata": {
        "id": "hpqESYjdMEtu"
      },
      "source": [
        "model = make_model() \n",
        "opt = tf.keras.optimizers.SGD(lr=0.01, momentum=0.9)\n",
        "\n",
        "# prepare model for fitting (loss, optimizer, etc)\n",
        "model.compile(\n",
        "    loss='categorical_crossentropy',  # we train 10-way classification\n",
        "    optimizer=opt,  # for SGD\n",
        "    metrics=['accuracy']  # report accuracy during training\n",
        ")"
      ],
      "execution_count": 42,
      "outputs": []
    },
    {
      "cell_type": "code",
      "metadata": {
        "colab": {
          "base_uri": "https://localhost:8080/"
        },
        "id": "iI7Q-ifzMNk9",
        "outputId": "fc235822-2873-4938-ae30-e9d3db5aa99c"
      },
      "source": [
        "start_time = time.time()\n",
        "history = model.fit(x_train, y_train, epochs=10, batch_size=64, validation_data=(x_test, y_test), verbose=0)\n",
        "# model.fit()\n",
        "end_time = time.time()\n",
        "print(\"Testing time: \", end_time-start_time)"
      ],
      "execution_count": 43,
      "outputs": [
        {
          "output_type": "stream",
          "text": [
            "Testing time:  58.40661573410034\n"
          ],
          "name": "stdout"
        }
      ]
    },
    {
      "cell_type": "code",
      "metadata": {
        "colab": {
          "base_uri": "https://localhost:8080/"
        },
        "id": "hJhZwJQDMSRx",
        "outputId": "69746ebe-e4c0-4209-e8cd-2b1ce203ce75"
      },
      "source": [
        "_,acc = model.evaluate(x_test,y_test)"
      ],
      "execution_count": 44,
      "outputs": [
        {
          "output_type": "stream",
          "text": [
            "313/313 [==============================] - 1s 4ms/step - loss: 1.0885 - accuracy: 0.6223\n"
          ],
          "name": "stdout"
        }
      ]
    },
    {
      "cell_type": "code",
      "metadata": {
        "colab": {
          "base_uri": "https://localhost:8080/"
        },
        "id": "Z-1PGhUSMZLl",
        "outputId": "00576e2f-fc59-4e16-f7a5-12fd0759a61c"
      },
      "source": [
        "print(_,acc)"
      ],
      "execution_count": 45,
      "outputs": [
        {
          "output_type": "stream",
          "text": [
            "1.088453769683838 0.6223000288009644\n"
          ],
          "name": "stdout"
        }
      ]
    },
    {
      "cell_type": "code",
      "metadata": {
        "colab": {
          "base_uri": "https://localhost:8080/"
        },
        "id": "C1N-L8HfOWYJ",
        "outputId": "916b09c6-a39d-47de-9d63-337482271104"
      },
      "source": [
        "model.summary()"
      ],
      "execution_count": 22,
      "outputs": [
        {
          "output_type": "stream",
          "text": [
            "Model: \"sequential\"\n",
            "_________________________________________________________________\n",
            "Layer (type)                 Output Shape              Param #   \n",
            "=================================================================\n",
            "zero_padding2d (ZeroPadding2 (None, 34, 34, 3)         0         \n",
            "_________________________________________________________________\n",
            "conv2d (Conv2D)              (None, 34, 34, 64)        1792      \n",
            "_________________________________________________________________\n",
            "batch_normalization (BatchNo (None, 34, 34, 64)        256       \n",
            "_________________________________________________________________\n",
            "max_pooling2d (MaxPooling2D) (None, 17, 17, 64)        0         \n",
            "_________________________________________________________________\n",
            "flatten (Flatten)            (None, 18496)             0         \n",
            "_________________________________________________________________\n",
            "dropout (Dropout)            (None, 18496)             0         \n",
            "_________________________________________________________________\n",
            "dense (Dense)                (None, 64)                1183808   \n",
            "_________________________________________________________________\n",
            "dense_1 (Dense)              (None, 10)                650       \n",
            "=================================================================\n",
            "Total params: 1,186,506\n",
            "Trainable params: 1,186,378\n",
            "Non-trainable params: 128\n",
            "_________________________________________________________________\n"
          ],
          "name": "stdout"
        }
      ]
    },
    {
      "cell_type": "markdown",
      "metadata": {
        "id": "BGxzvgT8RYom"
      },
      "source": [
        "**(c) 2 blocks of Conv2D -> BatchNorm2D->MaxPooling2D**"
      ]
    },
    {
      "cell_type": "code",
      "metadata": {
        "id": "ct20_ukvRa1W"
      },
      "source": [
        "def make_model():\n",
        "  model = tf.keras.models.Sequential()\n",
        "  model.add(tf.keras.layers.ZeroPadding2D(padding=(2,2), data_format=None))\n",
        "  model.add(tf.keras.layers.Conv2D(64, kernel_size=3, padding = 'same', activation = 'relu', input_shape = (32, 32, 3)))\n",
        "  model.add(tf.keras.layers.BatchNormalization())\n",
        "    # axis=-1, momentum=0.99, epsilon=0.01, center=True, scale=True,beta_initializer='zeros', gamma_initializer='ones', moving_mean_initializer='zeros',  moving_variance_initializer='ones', beta_regularizer=None,\n",
        "    # gamma_regularizer=None, beta_constraint=None, gamma_constraint=None,\n",
        "    # renorm=False, renorm_clipping=None, renorm_momentum=0.99, fused=None,\n",
        "    # trainable=True, virtual_batch_size=None, adjustment=None, name=None))\n",
        "  model.add(tf.keras.layers.MaxPooling2D(pool_size = 2, strides = 2, padding = 'valid',data_format = None))\n",
        "  model.add(tf.keras.layers.Conv2D(64, kernel_size=3, padding = 'same', activation = 'relu', input_shape = (32, 32, 3)))\n",
        "  model.add(tf.keras.layers.BatchNormalization())\n",
        "    # axis=-1, momentum=0.99, epsilon=0.01, center=True, scale=True,beta_initializer='zeros', gamma_initializer='ones', moving_mean_initializer='zeros',  moving_variance_initializer='ones', beta_regularizer=None,\n",
        "    # gamma_regularizer=None, beta_constraint=None, gamma_constraint=None,\n",
        "    # renorm=False, renorm_clipping=None, renorm_momentum=0.99, fused=None,\n",
        "    # trainable=True, virtual_batch_size=None, adjustment=None, name=None))\n",
        "  model.add(tf.keras.layers.MaxPooling2D(pool_size = 2, strides = 2, padding = 'valid',data_format = None))\n",
        "  model.add(tf.keras.layers.Flatten())\n",
        "  # model.add(tf.keras.layers.Dropout(0.5,noise_shape=None,seed=None))\n",
        "  model.add(tf.keras.layers.Dropout(0.25))\n",
        "  model.add(tf.keras.layers.Dense(units=64,activation='relu'))  #acc = 64,64,\n",
        "  # model.add(tf.keras.layers.Dense(units=128,activation='relu’))\n",
        "  model.add(tf.keras.layers.Dense(10, activation='softmax'))  #acc 64\n",
        "\n",
        "  return model"
      ],
      "execution_count": 82,
      "outputs": []
    },
    {
      "cell_type": "code",
      "metadata": {
        "id": "-2uxYvddR1_-"
      },
      "source": [
        "model = make_model() \n",
        "opt = tf.keras.optimizers.SGD(lr=0.01, momentum=0.9)\n",
        "\n",
        "# prepare model for fitting (loss, optimizer, etc)\n",
        "model.compile(\n",
        "    loss='categorical_crossentropy',  # we train 10-way classification\n",
        "    optimizer=opt,  # for SGD\n",
        "    metrics=['accuracy']  # report accuracy during training\n",
        ")"
      ],
      "execution_count": 83,
      "outputs": []
    },
    {
      "cell_type": "code",
      "metadata": {
        "colab": {
          "base_uri": "https://localhost:8080/"
        },
        "id": "ZhJFC-ZQR6bW",
        "outputId": "9aee9cb1-290b-412c-a0f8-f08a8a3fcce0"
      },
      "source": [
        "start_time = time.time()\n",
        "history = model.fit(x_train, y_train, epochs=20, batch_size=64, validation_data=(x_test, y_test), verbose=0)\n",
        "# model.fit()\n",
        "end_time = time.time()\n",
        "print(\"Testing time: \", end_time-start_time)"
      ],
      "execution_count": 84,
      "outputs": [
        {
          "output_type": "stream",
          "text": [
            "Testing time:  174.62647342681885\n"
          ],
          "name": "stdout"
        }
      ]
    },
    {
      "cell_type": "code",
      "metadata": {
        "colab": {
          "base_uri": "https://localhost:8080/"
        },
        "id": "IBBszfkWR8FO",
        "outputId": "841ce3b6-faa4-4b8e-ab5e-167a6131bb7c"
      },
      "source": [
        "_,acc = model.evaluate(x_test,y_test)"
      ],
      "execution_count": 85,
      "outputs": [
        {
          "output_type": "stream",
          "text": [
            "313/313 [==============================] - 2s 5ms/step - loss: 1.0473 - accuracy: 0.7203\n"
          ],
          "name": "stdout"
        }
      ]
    },
    {
      "cell_type": "markdown",
      "metadata": {
        "id": "cezsyb-XSylH"
      },
      "source": [
        "d) 3 blocks of Conv2D -> BatchNorm2D->MaxPooling2D\n",
        "Add a table contrasting the performance of the given architecture with\n",
        "all above variations. State your analysis. **bold text**"
      ]
    },
    {
      "cell_type": "code",
      "metadata": {
        "id": "codQ51ceS27N"
      },
      "source": [
        "def make_model():\n",
        "  model = tf.keras.models.Sequential()\n",
        "  model.add(tf.keras.layers.ZeroPadding2D(padding=(2,2), data_format=None))\n",
        "  model.add(tf.keras.layers.Conv2D(64, kernel_size=3, padding = 'same', activation = 'relu', input_shape = (32, 32, 3)))\n",
        "  model.add(tf.keras.layers.BatchNormalization())\n",
        "    # axis=-1, momentum=0.99, epsilon=0.01, center=True, scale=True,beta_initializer='zeros', gamma_initializer='ones', moving_mean_initializer='zeros',  moving_variance_initializer='ones', beta_regularizer=None,\n",
        "    # gamma_regularizer=None, beta_constraint=None, gamma_constraint=None,\n",
        "    # renorm=False, renorm_clipping=None, renorm_momentum=0.99, fused=None,\n",
        "    # trainable=True, virtual_batch_size=None, adjustment=None, name=None))\n",
        "  model.add(tf.keras.layers.MaxPooling2D(pool_size = 2, strides = 2, padding = 'valid',data_format = None))\n",
        "  model.add(tf.keras.layers.Conv2D(64, kernel_size=3, padding = 'same', activation = 'relu', input_shape = (32, 32, 3)))\n",
        "  model.add(tf.keras.layers.BatchNormalization())\n",
        "    # axis=-1, momentum=0.99, epsilon=0.01, center=True, scale=True,beta_initializer='zeros', gamma_initializer='ones', moving_mean_initializer='zeros',  moving_variance_initializer='ones', beta_regularizer=None,\n",
        "    # gamma_regularizer=None, beta_constraint=None, gamma_constraint=None,\n",
        "    # renorm=False, renorm_clipping=None, renorm_momentum=0.99, fused=None,\n",
        "    # trainable=True, virtual_batch_size=None, adjustment=None, name=None))\n",
        "  model.add(tf.keras.layers.MaxPooling2D(pool_size = 2, strides = 2, padding = 'valid',data_format = None))\n",
        "  model.add(tf.keras.layers.Conv2D(64, kernel_size=3, padding = 'same', activation = 'relu', input_shape = (32, 32, 3)))\n",
        "  model.add(tf.keras.layers.BatchNormalization())\n",
        "    # axis=-1, momentum=0.99, epsilon=0.01, center=True, scale=True,beta_initializer='zeros', gamma_initializer='ones', moving_mean_initializer='zeros',  moving_variance_initializer='ones', beta_regularizer=None,\n",
        "    # gamma_regularizer=None, beta_constraint=None, gamma_constraint=None,\n",
        "    # renorm=False, renorm_clipping=None, renorm_momentum=0.99, fused=None,\n",
        "    # trainable=True, virtual_batch_size=None, adjustment=None, name=None))\n",
        "  model.add(tf.keras.layers.MaxPooling2D(pool_size = 2, strides = 2, padding = 'valid',data_format = None))\n",
        "  model.add(tf.keras.layers.Flatten())\n",
        "  # model.add(tf.keras.layers.Dropout(0.5,noise_shape=None,seed=None))\n",
        "  model.add(tf.keras.layers.Dropout(0.25))\n",
        "  model.add(tf.keras.layers.Dense(units=64,activation='relu'))  #acc = 64,64,\n",
        "  # model.add(tf.keras.layers.Dense(units=128,activation='relu’))\n",
        "  model.add(tf.keras.layers.Dense(10, activation='softmax'))  #acc 64\n",
        "\n",
        "  return model"
      ],
      "execution_count": 69,
      "outputs": []
    },
    {
      "cell_type": "code",
      "metadata": {
        "id": "MIjwQx2eS6DF"
      },
      "source": [
        "model = make_model() \n",
        "opt = tf.keras.optimizers.SGD(lr=0.01, momentum=0.9)\n",
        "\n",
        "# prepare model for fitting (loss, optimizer, etc)\n",
        "model.compile(\n",
        "    loss='categorical_crossentropy',  # we train 10-way classification\n",
        "    optimizer=opt,  # for SGD\n",
        "    metrics=['accuracy']  # report accuracy during training\n",
        ")"
      ],
      "execution_count": 70,
      "outputs": []
    },
    {
      "cell_type": "code",
      "metadata": {
        "colab": {
          "base_uri": "https://localhost:8080/"
        },
        "id": "dStyYOTkS71F",
        "outputId": "db2d1502-9862-443c-95ec-be4ef2e94c30"
      },
      "source": [
        "start_time = time.time()\n",
        "history = model.fit(x_train, y_train, epochs=20, batch_size=64, validation_data=(x_test, y_test), verbose=0)\n",
        "# model.fit()\n",
        "end_time = time.time()\n",
        "print(\"Testing time: \", end_time-start_time)"
      ],
      "execution_count": 71,
      "outputs": [
        {
          "output_type": "stream",
          "text": [
            "Testing time:  205.97135305404663\n"
          ],
          "name": "stdout"
        }
      ]
    },
    {
      "cell_type": "code",
      "metadata": {
        "colab": {
          "base_uri": "https://localhost:8080/"
        },
        "id": "YbQvSdLtS93G",
        "outputId": "507127bb-9f35-49f3-bdb1-9713a55d2808"
      },
      "source": [
        "_,acc = model.evaluate(x_test,y_test)"
      ],
      "execution_count": 72,
      "outputs": [
        {
          "output_type": "stream",
          "text": [
            "313/313 [==============================] - 2s 5ms/step - loss: 0.8001 - accuracy: 0.7568\n"
          ],
          "name": "stdout"
        }
      ]
    }
  ]
}