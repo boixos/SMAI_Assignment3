{
  "nbformat": 4,
  "nbformat_minor": 0,
  "metadata": {
    "colab": {
      "name": "SMAI3_Q3",
      "provenance": [],
      "collapsed_sections": []
    },
    "kernelspec": {
      "name": "python3",
      "display_name": "Python 3"
    },
    "language_info": {
      "name": "python"
    },
    "accelerator": "GPU"
  },
  "cells": [
    {
      "cell_type": "code",
      "metadata": {
        "id": "jDBTwKGskxNj"
      },
      "source": [
        "import keras \n",
        "from keras.datasets import mnist \n",
        "from keras.models import Sequential \n",
        "from keras.layers import Dense, Dropout \n",
        "from keras.optimizers import RMSprop, Adam, SGD, Adadelta \n",
        "import numpy as np "
      ],
      "execution_count": null,
      "outputs": []
    },
    {
      "cell_type": "markdown",
      "metadata": {
        "id": "v2O-qC1sHyqj"
      },
      "source": [
        "**DATA Preprocessing**"
      ]
    },
    {
      "cell_type": "code",
      "metadata": {
        "colab": {
          "base_uri": "https://localhost:8080/"
        },
        "id": "t4aWN8StlCry",
        "outputId": "60aa9221-7bb2-4f43-ffc2-203c1f93e6f6"
      },
      "source": [
        "(x_train, y_train), (x_test, y_test) = mnist.load_data() \n",
        "x_train.shape,x_test.shape"
      ],
      "execution_count": null,
      "outputs": [
        {
          "output_type": "stream",
          "text": [
            "Downloading data from https://storage.googleapis.com/tensorflow/tf-keras-datasets/mnist.npz\n",
            "11493376/11490434 [==============================] - 0s 0us/step\n"
          ],
          "name": "stdout"
        },
        {
          "output_type": "execute_result",
          "data": {
            "text/plain": [
              "((60000, 28, 28), (10000, 28, 28))"
            ]
          },
          "metadata": {
            "tags": []
          },
          "execution_count": 2
        }
      ]
    },
    {
      "cell_type": "code",
      "metadata": {
        "colab": {
          "base_uri": "https://localhost:8080/"
        },
        "id": "zhr-mVfCb3uV",
        "outputId": "d538bcdb-532d-4136-b4be-24710a749c29"
      },
      "source": [
        "train = np.concatenate((x_train,x_test))\n",
        "test = np.concatenate((y_train,y_test))\n",
        "train.shape,test.shape"
      ],
      "execution_count": null,
      "outputs": [
        {
          "output_type": "execute_result",
          "data": {
            "text/plain": [
              "((70000, 28, 28), (70000,))"
            ]
          },
          "metadata": {
            "tags": []
          },
          "execution_count": 3
        }
      ]
    },
    {
      "cell_type": "code",
      "metadata": {
        "colab": {
          "base_uri": "https://localhost:8080/"
        },
        "id": "H2U0ioB4cTys",
        "outputId": "8e3cfdad-29b0-4552-cde5-d75e38da03fe"
      },
      "source": [
        "from sklearn.model_selection import train_test_split\n",
        "x_train, x_test,y_train, y_test = train_test_split(train,test,test_size=0.3,random_state = 40)\n",
        "x_train.shape,x_test.shape"
      ],
      "execution_count": null,
      "outputs": [
        {
          "output_type": "execute_result",
          "data": {
            "text/plain": [
              "((49000, 28, 28), (21000, 28, 28))"
            ]
          },
          "metadata": {
            "tags": []
          },
          "execution_count": 4
        }
      ]
    },
    {
      "cell_type": "code",
      "metadata": {
        "colab": {
          "base_uri": "https://localhost:8080/"
        },
        "id": "1g7PZU94g6kL",
        "outputId": "13536da2-4bee-4233-d60d-6d2b3f75cb3e"
      },
      "source": [
        "y_train.shape,y_test.shape"
      ],
      "execution_count": null,
      "outputs": [
        {
          "output_type": "execute_result",
          "data": {
            "text/plain": [
              "((49000,), (21000,))"
            ]
          },
          "metadata": {
            "tags": []
          },
          "execution_count": 5
        }
      ]
    },
    {
      "cell_type": "code",
      "metadata": {
        "id": "0o5u8PujzZMY"
      },
      "source": [
        "x_train = x_train.reshape(49000, 784) \n",
        "x_test = x_test.reshape(21000, 784) \n",
        "x_train = x_train.astype('float32') \n",
        "x_test = x_test.astype('float32') \n",
        "x_train /= 255 \n",
        "x_test /= 255 "
      ],
      "execution_count": null,
      "outputs": []
    },
    {
      "cell_type": "code",
      "metadata": {
        "id": "JrtKg4rEzec4"
      },
      "source": [
        "y_train = keras.utils.to_categorical(y_train, 10) \n",
        "y_test = keras.utils.to_categorical(y_test, 10)"
      ],
      "execution_count": null,
      "outputs": []
    },
    {
      "cell_type": "markdown",
      "metadata": {
        "id": "kOPJ30lGIBqD"
      },
      "source": [
        "**MLP Model**"
      ]
    },
    {
      "cell_type": "code",
      "metadata": {
        "id": "kTeSbkwAzkZ0"
      },
      "source": [
        "def create_model():\n",
        "  model = Sequential() \n",
        "  model.add(Dense(512, activation='relu', input_shape = (784,))) \n",
        "  model.add(Dropout(0.2)) \n",
        "  model.add(Dense(512, activation = 'relu')) \n",
        "  model.add(Dropout(0.2)) \n",
        "  model.add(Dense(10, activation = 'softmax'))\n",
        "  return model"
      ],
      "execution_count": null,
      "outputs": []
    },
    {
      "cell_type": "code",
      "metadata": {
        "id": "N3XQyEuei7iC"
      },
      "source": [
        "model = create_model()"
      ],
      "execution_count": null,
      "outputs": []
    },
    {
      "cell_type": "code",
      "metadata": {
        "id": "yXvR6v0qz7LM"
      },
      "source": [
        "model = create_model()\n",
        "model.compile(loss = 'categorical_crossentropy', optimizer = RMSprop(),  metrics = ['accuracy']) "
      ],
      "execution_count": null,
      "outputs": []
    },
    {
      "cell_type": "code",
      "metadata": {
        "colab": {
          "base_uri": "https://localhost:8080/"
        },
        "id": "AguvMLxG0Gws",
        "outputId": "161fb5b6-8666-421b-ba38-668630f795d3"
      },
      "source": [
        "history = model.fit(x_train, y_train, batch_size = 128, epochs = 20, verbose = 1, validation_data = (x_test, y_test))\n",
        "keras.optimizers.SGD(learning_rate = 0.01, momentum = 0.0, nesterov = False)\n"
      ],
      "execution_count": null,
      "outputs": [
        {
          "output_type": "stream",
          "text": [
            "Epoch 1/20\n",
            "383/383 [==============================] - 5s 6ms/step - loss: 0.4701 - accuracy: 0.8510 - val_loss: 0.1484 - val_accuracy: 0.9543\n",
            "Epoch 2/20\n",
            "383/383 [==============================] - 2s 5ms/step - loss: 0.1182 - accuracy: 0.9619 - val_loss: 0.1000 - val_accuracy: 0.9706\n",
            "Epoch 3/20\n",
            "383/383 [==============================] - 2s 4ms/step - loss: 0.0781 - accuracy: 0.9755 - val_loss: 0.0867 - val_accuracy: 0.9759\n",
            "Epoch 4/20\n",
            "383/383 [==============================] - 2s 5ms/step - loss: 0.0590 - accuracy: 0.9821 - val_loss: 0.0870 - val_accuracy: 0.9770\n",
            "Epoch 5/20\n",
            "383/383 [==============================] - 2s 5ms/step - loss: 0.0451 - accuracy: 0.9857 - val_loss: 0.0884 - val_accuracy: 0.9777\n",
            "Epoch 6/20\n",
            "383/383 [==============================] - 2s 5ms/step - loss: 0.0404 - accuracy: 0.9870 - val_loss: 0.0934 - val_accuracy: 0.9780\n",
            "Epoch 7/20\n",
            "383/383 [==============================] - 2s 5ms/step - loss: 0.0339 - accuracy: 0.9894 - val_loss: 0.0988 - val_accuracy: 0.9782\n",
            "Epoch 8/20\n",
            "383/383 [==============================] - 2s 5ms/step - loss: 0.0297 - accuracy: 0.9902 - val_loss: 0.1051 - val_accuracy: 0.9791\n",
            "Epoch 9/20\n",
            "383/383 [==============================] - 2s 5ms/step - loss: 0.0240 - accuracy: 0.9925 - val_loss: 0.1139 - val_accuracy: 0.9780\n",
            "Epoch 10/20\n",
            "383/383 [==============================] - 2s 5ms/step - loss: 0.0254 - accuracy: 0.9927 - val_loss: 0.1066 - val_accuracy: 0.9798\n",
            "Epoch 11/20\n",
            "383/383 [==============================] - 2s 5ms/step - loss: 0.0214 - accuracy: 0.9938 - val_loss: 0.1181 - val_accuracy: 0.9794\n",
            "Epoch 12/20\n",
            "383/383 [==============================] - 2s 5ms/step - loss: 0.0198 - accuracy: 0.9941 - val_loss: 0.1018 - val_accuracy: 0.9816\n",
            "Epoch 13/20\n",
            "383/383 [==============================] - 2s 5ms/step - loss: 0.0159 - accuracy: 0.9948 - val_loss: 0.1306 - val_accuracy: 0.9787\n",
            "Epoch 14/20\n",
            "383/383 [==============================] - 2s 5ms/step - loss: 0.0210 - accuracy: 0.9938 - val_loss: 0.1251 - val_accuracy: 0.9811\n",
            "Epoch 15/20\n",
            "383/383 [==============================] - 2s 5ms/step - loss: 0.0170 - accuracy: 0.9948 - val_loss: 0.1214 - val_accuracy: 0.9811\n",
            "Epoch 16/20\n",
            "383/383 [==============================] - 2s 5ms/step - loss: 0.0169 - accuracy: 0.9955 - val_loss: 0.1370 - val_accuracy: 0.9806\n",
            "Epoch 17/20\n",
            "383/383 [==============================] - 2s 5ms/step - loss: 0.0145 - accuracy: 0.9958 - val_loss: 0.1257 - val_accuracy: 0.9810\n",
            "Epoch 18/20\n",
            "383/383 [==============================] - 2s 5ms/step - loss: 0.0161 - accuracy: 0.9952 - val_loss: 0.1394 - val_accuracy: 0.9810\n",
            "Epoch 19/20\n",
            "383/383 [==============================] - 2s 5ms/step - loss: 0.0144 - accuracy: 0.9952 - val_loss: 0.1426 - val_accuracy: 0.9813\n",
            "Epoch 20/20\n",
            "383/383 [==============================] - 2s 5ms/step - loss: 0.0126 - accuracy: 0.9963 - val_loss: 0.1507 - val_accuracy: 0.9809\n"
          ],
          "name": "stdout"
        },
        {
          "output_type": "execute_result",
          "data": {
            "text/plain": [
              "<tensorflow.python.keras.optimizer_v2.gradient_descent.SGD at 0x7fc0b263f2d0>"
            ]
          },
          "metadata": {
            "tags": []
          },
          "execution_count": 10
        }
      ]
    },
    {
      "cell_type": "markdown",
      "metadata": {
        "id": "dAS6m2s1hPa6"
      },
      "source": [
        "Best "
      ]
    },
    {
      "cell_type": "code",
      "metadata": {
        "id": "BVdF9XEBhEPz"
      },
      "source": [
        "model.compile(loss = 'categorical_crossentropy', optimizer = RMSprop(),  metrics = ['accuracy']) "
      ],
      "execution_count": null,
      "outputs": []
    },
    {
      "cell_type": "code",
      "metadata": {
        "id": "dmIk_y4bhUKi"
      },
      "source": [
        "history = model.fit(x_train, y_train, batch_size = 128, epochs = 20, verbose = 0, validation_data = (x_test, y_test))\n"
      ],
      "execution_count": null,
      "outputs": []
    },
    {
      "cell_type": "code",
      "metadata": {
        "colab": {
          "base_uri": "https://localhost:8080/"
        },
        "id": "v5thq2RChnHs",
        "outputId": "54afae7c-4f62-447c-d009-47dfe3bbf65a"
      },
      "source": [
        "_,acc = model.evaluate(x_test,y_test, verbose=1)"
      ],
      "execution_count": null,
      "outputs": [
        {
          "output_type": "stream",
          "text": [
            "657/657 [==============================] - 1s 2ms/step - loss: 0.1518 - accuracy: 0.9809\n"
          ],
          "name": "stdout"
        }
      ]
    },
    {
      "cell_type": "code",
      "metadata": {
        "colab": {
          "base_uri": "https://localhost:8080/"
        },
        "id": "5yh7oSXHhqqy",
        "outputId": "a95f9258-b9b1-4a96-db5e-cb427d318c96"
      },
      "source": [
        "print(_,acc)"
      ],
      "execution_count": null,
      "outputs": [
        {
          "output_type": "stream",
          "text": [
            "0.15177182853221893 0.9808571338653564\n"
          ],
          "name": "stdout"
        }
      ]
    },
    {
      "cell_type": "markdown",
      "metadata": {
        "id": "da6crCZAiVoW"
      },
      "source": [
        "**PART I** <br>\n",
        "1) Using D/f Optimizers\n"
      ]
    },
    {
      "cell_type": "code",
      "metadata": {
        "id": "JeB94ZmNiR3a"
      },
      "source": [
        "#ADAM\n",
        "model.compile(loss = 'categorical_crossentropy', optimizer = Adam(),  metrics = ['accuracy']) "
      ],
      "execution_count": null,
      "outputs": []
    },
    {
      "cell_type": "code",
      "metadata": {
        "colab": {
          "base_uri": "https://localhost:8080/"
        },
        "id": "S3cqkflHjNoc",
        "outputId": "367c56f9-5241-4906-9737-ed69306fcc66"
      },
      "source": [
        "history = model.fit(x_train, y_train, batch_size = 128, epochs = 20, verbose = 1, validation_data = (x_test, y_test))\n"
      ],
      "execution_count": null,
      "outputs": [
        {
          "output_type": "stream",
          "text": [
            "Epoch 1/20\n",
            "383/383 [==============================] - 2s 5ms/step - loss: 0.4883 - accuracy: 0.8546 - val_loss: 0.1371 - val_accuracy: 0.9594\n",
            "Epoch 2/20\n",
            "383/383 [==============================] - 2s 4ms/step - loss: 0.1100 - accuracy: 0.9644 - val_loss: 0.0923 - val_accuracy: 0.9727\n",
            "Epoch 3/20\n",
            "383/383 [==============================] - 2s 4ms/step - loss: 0.0744 - accuracy: 0.9764 - val_loss: 0.0900 - val_accuracy: 0.9727\n",
            "Epoch 4/20\n",
            "383/383 [==============================] - 2s 4ms/step - loss: 0.0554 - accuracy: 0.9821 - val_loss: 0.0864 - val_accuracy: 0.9747\n",
            "Epoch 5/20\n",
            "383/383 [==============================] - 2s 4ms/step - loss: 0.0399 - accuracy: 0.9869 - val_loss: 0.0864 - val_accuracy: 0.9761\n",
            "Epoch 6/20\n",
            "383/383 [==============================] - 2s 4ms/step - loss: 0.0367 - accuracy: 0.9877 - val_loss: 0.0773 - val_accuracy: 0.9776\n",
            "Epoch 7/20\n",
            "383/383 [==============================] - 2s 4ms/step - loss: 0.0337 - accuracy: 0.9883 - val_loss: 0.0833 - val_accuracy: 0.9779\n",
            "Epoch 8/20\n",
            "383/383 [==============================] - 2s 4ms/step - loss: 0.0304 - accuracy: 0.9896 - val_loss: 0.0833 - val_accuracy: 0.9782\n",
            "Epoch 9/20\n",
            "383/383 [==============================] - 2s 4ms/step - loss: 0.0244 - accuracy: 0.9916 - val_loss: 0.0856 - val_accuracy: 0.9791\n",
            "Epoch 10/20\n",
            "383/383 [==============================] - 2s 4ms/step - loss: 0.0237 - accuracy: 0.9920 - val_loss: 0.0886 - val_accuracy: 0.9783\n",
            "Epoch 11/20\n",
            "383/383 [==============================] - 2s 4ms/step - loss: 0.0199 - accuracy: 0.9938 - val_loss: 0.0854 - val_accuracy: 0.9791\n",
            "Epoch 12/20\n",
            "383/383 [==============================] - 2s 4ms/step - loss: 0.0200 - accuracy: 0.9934 - val_loss: 0.0864 - val_accuracy: 0.9803\n",
            "Epoch 13/20\n",
            "383/383 [==============================] - 2s 4ms/step - loss: 0.0220 - accuracy: 0.9928 - val_loss: 0.0877 - val_accuracy: 0.9798\n",
            "Epoch 14/20\n",
            "383/383 [==============================] - 2s 4ms/step - loss: 0.0169 - accuracy: 0.9939 - val_loss: 0.0874 - val_accuracy: 0.9817\n",
            "Epoch 15/20\n",
            "383/383 [==============================] - 2s 4ms/step - loss: 0.0195 - accuracy: 0.9939 - val_loss: 0.1010 - val_accuracy: 0.9798\n",
            "Epoch 16/20\n",
            "383/383 [==============================] - 2s 4ms/step - loss: 0.0173 - accuracy: 0.9943 - val_loss: 0.0923 - val_accuracy: 0.9798\n",
            "Epoch 17/20\n",
            "383/383 [==============================] - 2s 4ms/step - loss: 0.0136 - accuracy: 0.9953 - val_loss: 0.0986 - val_accuracy: 0.9809\n",
            "Epoch 18/20\n",
            "383/383 [==============================] - 2s 4ms/step - loss: 0.0140 - accuracy: 0.9954 - val_loss: 0.0905 - val_accuracy: 0.9810\n",
            "Epoch 19/20\n",
            "383/383 [==============================] - 2s 4ms/step - loss: 0.0133 - accuracy: 0.9953 - val_loss: 0.1008 - val_accuracy: 0.9810\n",
            "Epoch 20/20\n",
            "383/383 [==============================] - 2s 4ms/step - loss: 0.0172 - accuracy: 0.9946 - val_loss: 0.0952 - val_accuracy: 0.9804\n"
          ],
          "name": "stdout"
        }
      ]
    },
    {
      "cell_type": "code",
      "metadata": {
        "id": "G4JM8S8Pjreq"
      },
      "source": [
        "#SGD\n",
        "model.compile(loss = 'categorical_crossentropy', optimizer = SGD(momentum = 0.9),  metrics = ['accuracy']) "
      ],
      "execution_count": null,
      "outputs": []
    },
    {
      "cell_type": "code",
      "metadata": {
        "colab": {
          "base_uri": "https://localhost:8080/"
        },
        "id": "8-jqU9MWj-TR",
        "outputId": "d8b39db8-5a0d-4ab5-e74c-a6c7bef0cde1"
      },
      "source": [
        "history = model.fit(x_train, y_train, batch_size = 128, epochs = 20, verbose = 1, validation_data = (x_test, y_test))\n"
      ],
      "execution_count": null,
      "outputs": [
        {
          "output_type": "stream",
          "text": [
            "Epoch 1/20\n",
            "383/383 [==============================] - 2s 5ms/step - loss: 0.9144 - accuracy: 0.7252 - val_loss: 0.2699 - val_accuracy: 0.9186\n",
            "Epoch 2/20\n",
            "383/383 [==============================] - 2s 4ms/step - loss: 0.2674 - accuracy: 0.9226 - val_loss: 0.1848 - val_accuracy: 0.9455\n",
            "Epoch 3/20\n",
            "383/383 [==============================] - 2s 4ms/step - loss: 0.1885 - accuracy: 0.9436 - val_loss: 0.1521 - val_accuracy: 0.9548\n",
            "Epoch 4/20\n",
            "383/383 [==============================] - 2s 4ms/step - loss: 0.1494 - accuracy: 0.9558 - val_loss: 0.1289 - val_accuracy: 0.9607\n",
            "Epoch 5/20\n",
            "383/383 [==============================] - 2s 4ms/step - loss: 0.1249 - accuracy: 0.9636 - val_loss: 0.1132 - val_accuracy: 0.9666\n",
            "Epoch 6/20\n",
            "383/383 [==============================] - 2s 4ms/step - loss: 0.1052 - accuracy: 0.9691 - val_loss: 0.1048 - val_accuracy: 0.9691\n",
            "Epoch 7/20\n",
            "383/383 [==============================] - 2s 4ms/step - loss: 0.0951 - accuracy: 0.9711 - val_loss: 0.0985 - val_accuracy: 0.9693\n",
            "Epoch 8/20\n",
            "383/383 [==============================] - 2s 4ms/step - loss: 0.0816 - accuracy: 0.9763 - val_loss: 0.0910 - val_accuracy: 0.9723\n",
            "Epoch 9/20\n",
            "383/383 [==============================] - 2s 4ms/step - loss: 0.0731 - accuracy: 0.9787 - val_loss: 0.0853 - val_accuracy: 0.9746\n",
            "Epoch 10/20\n",
            "383/383 [==============================] - 2s 4ms/step - loss: 0.0660 - accuracy: 0.9809 - val_loss: 0.0853 - val_accuracy: 0.9744\n",
            "Epoch 11/20\n",
            "383/383 [==============================] - 2s 4ms/step - loss: 0.0568 - accuracy: 0.9830 - val_loss: 0.0823 - val_accuracy: 0.9752\n",
            "Epoch 12/20\n",
            "383/383 [==============================] - 2s 4ms/step - loss: 0.0542 - accuracy: 0.9841 - val_loss: 0.0782 - val_accuracy: 0.9759\n",
            "Epoch 13/20\n",
            "383/383 [==============================] - 2s 4ms/step - loss: 0.0483 - accuracy: 0.9856 - val_loss: 0.0767 - val_accuracy: 0.9769\n",
            "Epoch 14/20\n",
            "383/383 [==============================] - 2s 4ms/step - loss: 0.0474 - accuracy: 0.9848 - val_loss: 0.0750 - val_accuracy: 0.9771\n",
            "Epoch 15/20\n",
            "383/383 [==============================] - 2s 4ms/step - loss: 0.0434 - accuracy: 0.9862 - val_loss: 0.0740 - val_accuracy: 0.9777\n",
            "Epoch 16/20\n",
            "383/383 [==============================] - 2s 4ms/step - loss: 0.0367 - accuracy: 0.9882 - val_loss: 0.0728 - val_accuracy: 0.9782\n",
            "Epoch 17/20\n",
            "383/383 [==============================] - 2s 4ms/step - loss: 0.0352 - accuracy: 0.9896 - val_loss: 0.0713 - val_accuracy: 0.9790\n",
            "Epoch 18/20\n",
            "383/383 [==============================] - 2s 4ms/step - loss: 0.0320 - accuracy: 0.9907 - val_loss: 0.0698 - val_accuracy: 0.9796\n",
            "Epoch 19/20\n",
            "383/383 [==============================] - 2s 4ms/step - loss: 0.0284 - accuracy: 0.9909 - val_loss: 0.0719 - val_accuracy: 0.9787\n",
            "Epoch 20/20\n",
            "383/383 [==============================] - 2s 4ms/step - loss: 0.0284 - accuracy: 0.9923 - val_loss: 0.0700 - val_accuracy: 0.9800\n"
          ],
          "name": "stdout"
        }
      ]
    },
    {
      "cell_type": "code",
      "metadata": {
        "id": "Lf_P0LgtlU2J"
      },
      "source": [
        "model.compile(loss = 'categorical_crossentropy', optimizer = SGD(momentum = 0.0),  metrics = ['accuracy']) "
      ],
      "execution_count": null,
      "outputs": []
    },
    {
      "cell_type": "code",
      "metadata": {
        "colab": {
          "base_uri": "https://localhost:8080/"
        },
        "id": "7-0LH2PqlYlr",
        "outputId": "4f42e2cc-d495-49f4-884d-2c743c968523"
      },
      "source": [
        "history = model.fit(x_train, y_train, batch_size = 128, epochs = 20, verbose = 1, validation_data = (x_test, y_test))\n"
      ],
      "execution_count": null,
      "outputs": [
        {
          "output_type": "stream",
          "text": [
            "Epoch 1/20\n",
            "383/383 [==============================] - 2s 5ms/step - loss: 1.7805 - accuracy: 0.4913 - val_loss: 0.6511 - val_accuracy: 0.8503\n",
            "Epoch 2/20\n",
            "383/383 [==============================] - 2s 4ms/step - loss: 0.6498 - accuracy: 0.8255 - val_loss: 0.4334 - val_accuracy: 0.8842\n",
            "Epoch 3/20\n",
            "383/383 [==============================] - 2s 4ms/step - loss: 0.4739 - accuracy: 0.8656 - val_loss: 0.3661 - val_accuracy: 0.8967\n",
            "Epoch 4/20\n",
            "383/383 [==============================] - 2s 4ms/step - loss: 0.4062 - accuracy: 0.8853 - val_loss: 0.3318 - val_accuracy: 0.9037\n",
            "Epoch 5/20\n",
            "383/383 [==============================] - 2s 4ms/step - loss: 0.3764 - accuracy: 0.8898 - val_loss: 0.3081 - val_accuracy: 0.9100\n",
            "Epoch 6/20\n",
            "383/383 [==============================] - 2s 4ms/step - loss: 0.3387 - accuracy: 0.9036 - val_loss: 0.2895 - val_accuracy: 0.9143\n",
            "Epoch 7/20\n",
            "383/383 [==============================] - 2s 4ms/step - loss: 0.3165 - accuracy: 0.9085 - val_loss: 0.2751 - val_accuracy: 0.9190\n",
            "Epoch 8/20\n",
            "383/383 [==============================] - 2s 4ms/step - loss: 0.3080 - accuracy: 0.9110 - val_loss: 0.2610 - val_accuracy: 0.9239\n",
            "Epoch 9/20\n",
            "383/383 [==============================] - 2s 4ms/step - loss: 0.2827 - accuracy: 0.9189 - val_loss: 0.2501 - val_accuracy: 0.9271\n",
            "Epoch 10/20\n",
            "383/383 [==============================] - 2s 4ms/step - loss: 0.2738 - accuracy: 0.9206 - val_loss: 0.2400 - val_accuracy: 0.9294\n",
            "Epoch 11/20\n",
            "383/383 [==============================] - 2s 4ms/step - loss: 0.2644 - accuracy: 0.9228 - val_loss: 0.2304 - val_accuracy: 0.9329\n",
            "Epoch 12/20\n",
            "383/383 [==============================] - 2s 4ms/step - loss: 0.2537 - accuracy: 0.9269 - val_loss: 0.2218 - val_accuracy: 0.9348\n",
            "Epoch 13/20\n",
            "383/383 [==============================] - 2s 4ms/step - loss: 0.2383 - accuracy: 0.9296 - val_loss: 0.2139 - val_accuracy: 0.9372\n",
            "Epoch 14/20\n",
            "383/383 [==============================] - 2s 4ms/step - loss: 0.2348 - accuracy: 0.9320 - val_loss: 0.2070 - val_accuracy: 0.9388\n",
            "Epoch 15/20\n",
            "383/383 [==============================] - 2s 4ms/step - loss: 0.2269 - accuracy: 0.9337 - val_loss: 0.2007 - val_accuracy: 0.9409\n",
            "Epoch 16/20\n",
            "383/383 [==============================] - 2s 4ms/step - loss: 0.2166 - accuracy: 0.9384 - val_loss: 0.1951 - val_accuracy: 0.9424\n",
            "Epoch 17/20\n",
            "383/383 [==============================] - 2s 4ms/step - loss: 0.2095 - accuracy: 0.9387 - val_loss: 0.1883 - val_accuracy: 0.9442\n",
            "Epoch 18/20\n",
            "383/383 [==============================] - 2s 4ms/step - loss: 0.2042 - accuracy: 0.9422 - val_loss: 0.1830 - val_accuracy: 0.9460\n",
            "Epoch 19/20\n",
            "383/383 [==============================] - 2s 4ms/step - loss: 0.2023 - accuracy: 0.9417 - val_loss: 0.1786 - val_accuracy: 0.9474\n",
            "Epoch 20/20\n",
            "383/383 [==============================] - 2s 4ms/step - loss: 0.1885 - accuracy: 0.9457 - val_loss: 0.1737 - val_accuracy: 0.9490\n"
          ],
          "name": "stdout"
        }
      ]
    },
    {
      "cell_type": "code",
      "metadata": {
        "id": "_Nf64i8rmSCS"
      },
      "source": [
        "#Adadelta\n",
        "model.compile(loss = 'categorical_crossentropy', optimizer = Adadelta(),  metrics = ['accuracy']) "
      ],
      "execution_count": null,
      "outputs": []
    },
    {
      "cell_type": "code",
      "metadata": {
        "colab": {
          "base_uri": "https://localhost:8080/"
        },
        "id": "BMbDlPIkmTvr",
        "outputId": "ca31c01a-44b7-43f3-becb-d455bbbe6323"
      },
      "source": [
        "history = model.fit(x_train, y_train, batch_size = 128, epochs = 20, verbose = 1, validation_data = (x_test, y_test))\n"
      ],
      "execution_count": null,
      "outputs": [
        {
          "output_type": "stream",
          "text": [
            "Epoch 1/20\n",
            "383/383 [==============================] - 2s 5ms/step - loss: 2.3083 - accuracy: 0.1135 - val_loss: 2.2167 - val_accuracy: 0.2128\n",
            "Epoch 2/20\n",
            "383/383 [==============================] - 2s 4ms/step - loss: 2.2158 - accuracy: 0.1936 - val_loss: 2.1257 - val_accuracy: 0.3864\n",
            "Epoch 3/20\n",
            "383/383 [==============================] - 2s 4ms/step - loss: 2.1327 - accuracy: 0.3020 - val_loss: 2.0360 - val_accuracy: 0.5080\n",
            "Epoch 4/20\n",
            "383/383 [==============================] - 2s 4ms/step - loss: 2.0450 - accuracy: 0.4000 - val_loss: 1.9455 - val_accuracy: 0.5883\n",
            "Epoch 5/20\n",
            "383/383 [==============================] - 2s 4ms/step - loss: 1.9547 - accuracy: 0.4855 - val_loss: 1.8533 - val_accuracy: 0.6490\n",
            "Epoch 6/20\n",
            "383/383 [==============================] - 2s 4ms/step - loss: 1.8670 - accuracy: 0.5496 - val_loss: 1.7593 - val_accuracy: 0.6931\n",
            "Epoch 7/20\n",
            "383/383 [==============================] - 2s 4ms/step - loss: 1.7795 - accuracy: 0.5952 - val_loss: 1.6643 - val_accuracy: 0.7220\n",
            "Epoch 8/20\n",
            "383/383 [==============================] - 2s 4ms/step - loss: 1.6880 - accuracy: 0.6348 - val_loss: 1.5695 - val_accuracy: 0.7434\n",
            "Epoch 9/20\n",
            "383/383 [==============================] - 2s 4ms/step - loss: 1.6013 - accuracy: 0.6634 - val_loss: 1.4766 - val_accuracy: 0.7583\n",
            "Epoch 10/20\n",
            "383/383 [==============================] - 2s 4ms/step - loss: 1.5128 - accuracy: 0.6867 - val_loss: 1.3869 - val_accuracy: 0.7720\n",
            "Epoch 11/20\n",
            "383/383 [==============================] - 2s 4ms/step - loss: 1.4297 - accuracy: 0.7028 - val_loss: 1.3019 - val_accuracy: 0.7822\n",
            "Epoch 12/20\n",
            "383/383 [==============================] - 2s 4ms/step - loss: 1.3497 - accuracy: 0.7205 - val_loss: 1.2223 - val_accuracy: 0.7907\n",
            "Epoch 13/20\n",
            "383/383 [==============================] - 2s 4ms/step - loss: 1.2734 - accuracy: 0.7339 - val_loss: 1.1489 - val_accuracy: 0.7998\n",
            "Epoch 14/20\n",
            "383/383 [==============================] - 2s 4ms/step - loss: 1.1983 - accuracy: 0.7481 - val_loss: 1.0816 - val_accuracy: 0.8080\n",
            "Epoch 15/20\n",
            "383/383 [==============================] - 2s 4ms/step - loss: 1.1501 - accuracy: 0.7492 - val_loss: 1.0205 - val_accuracy: 0.8137\n",
            "Epoch 16/20\n",
            "383/383 [==============================] - 2s 4ms/step - loss: 1.0823 - accuracy: 0.7645 - val_loss: 0.9650 - val_accuracy: 0.8199\n",
            "Epoch 17/20\n",
            "383/383 [==============================] - 2s 4ms/step - loss: 1.0303 - accuracy: 0.7739 - val_loss: 0.9153 - val_accuracy: 0.8250\n",
            "Epoch 18/20\n",
            "383/383 [==============================] - 2s 4ms/step - loss: 0.9854 - accuracy: 0.7785 - val_loss: 0.8707 - val_accuracy: 0.8294\n",
            "Epoch 19/20\n",
            "383/383 [==============================] - 2s 4ms/step - loss: 0.9362 - accuracy: 0.7852 - val_loss: 0.8307 - val_accuracy: 0.8325\n",
            "Epoch 20/20\n",
            "383/383 [==============================] - 2s 4ms/step - loss: 0.9000 - accuracy: 0.7869 - val_loss: 0.7947 - val_accuracy: 0.8365\n"
          ],
          "name": "stdout"
        }
      ]
    },
    {
      "cell_type": "markdown",
      "metadata": {
        "id": "MNshiiidHXdP"
      },
      "source": [
        "2) Try different weight initialisations of the neural network like\n",
        "Xavier, uniform and normal"
      ]
    },
    {
      "cell_type": "code",
      "metadata": {
        "id": "yTTa8FPvHX5u"
      },
      "source": [
        "#Xavier\n",
        "def create_model():\n",
        "  model = Sequential() \n",
        "  model.add(Dense(512, activation='relu', kernel_initializer='glorot_uniform',input_shape = (784,))) \n",
        "  model.add(Dropout(0.2)) \n",
        "  model.add(Dense(512, activation = 'relu')) \n",
        "  model.add(Dropout(0.2)) \n",
        "  model.add(Dense(10, activation = 'softmax'))\n",
        "  return model"
      ],
      "execution_count": null,
      "outputs": []
    },
    {
      "cell_type": "code",
      "metadata": {
        "id": "zPXLEYsqLUQD"
      },
      "source": [
        "model = create_model()\n",
        "model.compile(loss = 'categorical_crossentropy', optimizer = RMSprop(),  metrics = ['accuracy']) "
      ],
      "execution_count": null,
      "outputs": []
    },
    {
      "cell_type": "code",
      "metadata": {
        "colab": {
          "base_uri": "https://localhost:8080/"
        },
        "id": "yU1eUrN7Lc1b",
        "outputId": "bf657bdf-5a5f-4cd3-e464-c54acf469502"
      },
      "source": [
        "history = model.fit(x_train, y_train, batch_size = 128, epochs = 20, verbose = 1, validation_data = (x_test, y_test))\n"
      ],
      "execution_count": null,
      "outputs": [
        {
          "output_type": "stream",
          "text": [
            "Epoch 1/20\n",
            "383/383 [==============================] - 5s 5ms/step - loss: 0.4749 - accuracy: 0.8494 - val_loss: 0.1535 - val_accuracy: 0.9513\n",
            "Epoch 2/20\n",
            "383/383 [==============================] - 2s 4ms/step - loss: 0.1163 - accuracy: 0.9643 - val_loss: 0.0922 - val_accuracy: 0.9722\n",
            "Epoch 3/20\n",
            "383/383 [==============================] - 2s 4ms/step - loss: 0.0757 - accuracy: 0.9768 - val_loss: 0.0941 - val_accuracy: 0.9738\n",
            "Epoch 4/20\n",
            "383/383 [==============================] - 2s 4ms/step - loss: 0.0601 - accuracy: 0.9810 - val_loss: 0.0899 - val_accuracy: 0.9770\n",
            "Epoch 5/20\n",
            "383/383 [==============================] - 2s 4ms/step - loss: 0.0469 - accuracy: 0.9843 - val_loss: 0.0843 - val_accuracy: 0.9787\n",
            "Epoch 6/20\n",
            "383/383 [==============================] - 2s 4ms/step - loss: 0.0384 - accuracy: 0.9879 - val_loss: 0.0901 - val_accuracy: 0.9790\n",
            "Epoch 7/20\n",
            "383/383 [==============================] - 2s 4ms/step - loss: 0.0322 - accuracy: 0.9905 - val_loss: 0.1061 - val_accuracy: 0.9772\n",
            "Epoch 8/20\n",
            "383/383 [==============================] - 2s 4ms/step - loss: 0.0298 - accuracy: 0.9908 - val_loss: 0.1019 - val_accuracy: 0.9790\n",
            "Epoch 9/20\n",
            "383/383 [==============================] - 2s 4ms/step - loss: 0.0257 - accuracy: 0.9921 - val_loss: 0.1057 - val_accuracy: 0.9793\n",
            "Epoch 10/20\n",
            "383/383 [==============================] - 2s 4ms/step - loss: 0.0232 - accuracy: 0.9929 - val_loss: 0.1106 - val_accuracy: 0.9797\n",
            "Epoch 11/20\n",
            "383/383 [==============================] - 2s 4ms/step - loss: 0.0241 - accuracy: 0.9934 - val_loss: 0.1212 - val_accuracy: 0.9795\n",
            "Epoch 12/20\n",
            "383/383 [==============================] - 2s 4ms/step - loss: 0.0200 - accuracy: 0.9945 - val_loss: 0.1169 - val_accuracy: 0.9803\n",
            "Epoch 13/20\n",
            "383/383 [==============================] - 2s 4ms/step - loss: 0.0190 - accuracy: 0.9943 - val_loss: 0.1257 - val_accuracy: 0.9806\n",
            "Epoch 14/20\n",
            "383/383 [==============================] - 2s 4ms/step - loss: 0.0205 - accuracy: 0.9942 - val_loss: 0.1427 - val_accuracy: 0.9782\n",
            "Epoch 15/20\n",
            "383/383 [==============================] - 2s 4ms/step - loss: 0.0169 - accuracy: 0.9950 - val_loss: 0.1360 - val_accuracy: 0.9802\n",
            "Epoch 16/20\n",
            "383/383 [==============================] - 2s 4ms/step - loss: 0.0186 - accuracy: 0.9944 - val_loss: 0.1379 - val_accuracy: 0.9797\n",
            "Epoch 17/20\n",
            "383/383 [==============================] - 2s 4ms/step - loss: 0.0137 - accuracy: 0.9958 - val_loss: 0.1399 - val_accuracy: 0.9813\n",
            "Epoch 18/20\n",
            "383/383 [==============================] - 2s 4ms/step - loss: 0.0159 - accuracy: 0.9954 - val_loss: 0.1675 - val_accuracy: 0.9790\n",
            "Epoch 19/20\n",
            "383/383 [==============================] - 2s 4ms/step - loss: 0.0120 - accuracy: 0.9966 - val_loss: 0.1546 - val_accuracy: 0.9797\n",
            "Epoch 20/20\n",
            "383/383 [==============================] - 2s 4ms/step - loss: 0.0153 - accuracy: 0.9959 - val_loss: 0.1490 - val_accuracy: 0.9820\n"
          ],
          "name": "stdout"
        }
      ]
    },
    {
      "cell_type": "code",
      "metadata": {
        "id": "uYjLhJwULqSq"
      },
      "source": [
        "#Uniform\n",
        "def create_model():\n",
        "  model = Sequential() \n",
        "  model.add(Dense(512, activation='relu', kernel_initializer='random_uniform',input_shape = (784,))) \n",
        "  model.add(Dropout(0.2)) \n",
        "  model.add(Dense(512, activation = 'relu')) \n",
        "  model.add(Dropout(0.2)) \n",
        "  model.add(Dense(10, activation = 'softmax'))\n",
        "  return model"
      ],
      "execution_count": null,
      "outputs": []
    },
    {
      "cell_type": "code",
      "metadata": {
        "id": "yFTkeKJeLxpC"
      },
      "source": [
        "model = create_model()\n",
        "model.compile(loss = 'categorical_crossentropy', optimizer = RMSprop(),  metrics = ['accuracy']) "
      ],
      "execution_count": null,
      "outputs": []
    },
    {
      "cell_type": "code",
      "metadata": {
        "colab": {
          "base_uri": "https://localhost:8080/"
        },
        "id": "QPjqwpJyLzeq",
        "outputId": "32280737-8f26-4933-9c6a-e11f6d849e22"
      },
      "source": [
        "history = model.fit(x_train, y_train, batch_size = 128, epochs = 20, verbose = 1, validation_data = (x_test, y_test))\n"
      ],
      "execution_count": null,
      "outputs": [
        {
          "output_type": "stream",
          "text": [
            "Epoch 1/20\n",
            "383/383 [==============================] - 2s 4ms/step - loss: 0.4670 - accuracy: 0.8538 - val_loss: 0.1175 - val_accuracy: 0.9645\n",
            "Epoch 2/20\n",
            "383/383 [==============================] - 2s 4ms/step - loss: 0.1138 - accuracy: 0.9649 - val_loss: 0.1060 - val_accuracy: 0.9684\n",
            "Epoch 3/20\n",
            "383/383 [==============================] - 2s 4ms/step - loss: 0.0775 - accuracy: 0.9769 - val_loss: 0.0860 - val_accuracy: 0.9754\n",
            "Epoch 4/20\n",
            "383/383 [==============================] - 2s 4ms/step - loss: 0.0628 - accuracy: 0.9802 - val_loss: 0.0909 - val_accuracy: 0.9771\n",
            "Epoch 5/20\n",
            "383/383 [==============================] - 2s 4ms/step - loss: 0.0486 - accuracy: 0.9841 - val_loss: 0.0843 - val_accuracy: 0.9792\n",
            "Epoch 6/20\n",
            "383/383 [==============================] - 2s 4ms/step - loss: 0.0392 - accuracy: 0.9873 - val_loss: 0.1024 - val_accuracy: 0.9754\n",
            "Epoch 7/20\n",
            "383/383 [==============================] - 2s 4ms/step - loss: 0.0366 - accuracy: 0.9885 - val_loss: 0.0885 - val_accuracy: 0.9797\n",
            "Epoch 8/20\n",
            "383/383 [==============================] - 2s 4ms/step - loss: 0.0307 - accuracy: 0.9904 - val_loss: 0.0932 - val_accuracy: 0.9785\n",
            "Epoch 9/20\n",
            "383/383 [==============================] - 2s 4ms/step - loss: 0.0265 - accuracy: 0.9921 - val_loss: 0.0952 - val_accuracy: 0.9803\n",
            "Epoch 10/20\n",
            "383/383 [==============================] - 2s 4ms/step - loss: 0.0255 - accuracy: 0.9926 - val_loss: 0.1101 - val_accuracy: 0.9804\n",
            "Epoch 11/20\n",
            "383/383 [==============================] - 2s 4ms/step - loss: 0.0285 - accuracy: 0.9920 - val_loss: 0.1105 - val_accuracy: 0.9815\n",
            "Epoch 12/20\n",
            "383/383 [==============================] - 2s 4ms/step - loss: 0.0202 - accuracy: 0.9940 - val_loss: 0.1133 - val_accuracy: 0.9804\n",
            "Epoch 13/20\n",
            "383/383 [==============================] - 2s 4ms/step - loss: 0.0190 - accuracy: 0.9940 - val_loss: 0.1269 - val_accuracy: 0.9791\n",
            "Epoch 14/20\n",
            "383/383 [==============================] - 2s 4ms/step - loss: 0.0187 - accuracy: 0.9947 - val_loss: 0.1325 - val_accuracy: 0.9782\n",
            "Epoch 15/20\n",
            "383/383 [==============================] - 2s 4ms/step - loss: 0.0164 - accuracy: 0.9949 - val_loss: 0.1337 - val_accuracy: 0.9801\n",
            "Epoch 16/20\n",
            "383/383 [==============================] - 2s 4ms/step - loss: 0.0163 - accuracy: 0.9953 - val_loss: 0.1288 - val_accuracy: 0.9817\n",
            "Epoch 17/20\n",
            "383/383 [==============================] - 2s 4ms/step - loss: 0.0168 - accuracy: 0.9950 - val_loss: 0.1436 - val_accuracy: 0.9796\n",
            "Epoch 18/20\n",
            "383/383 [==============================] - 2s 4ms/step - loss: 0.0161 - accuracy: 0.9959 - val_loss: 0.1516 - val_accuracy: 0.9805\n",
            "Epoch 19/20\n",
            "383/383 [==============================] - 2s 4ms/step - loss: 0.0151 - accuracy: 0.9958 - val_loss: 0.1427 - val_accuracy: 0.9816\n",
            "Epoch 20/20\n",
            "383/383 [==============================] - 2s 4ms/step - loss: 0.0134 - accuracy: 0.9965 - val_loss: 0.1422 - val_accuracy: 0.9821\n"
          ],
          "name": "stdout"
        }
      ]
    },
    {
      "cell_type": "code",
      "metadata": {
        "id": "5uGllfq7MbKi"
      },
      "source": [
        "#Normal\n",
        "def create_model():\n",
        "  model = Sequential() \n",
        "  model.add(Dense(512, activation='relu', kernel_initializer='random_normal',input_shape = (784,))) \n",
        "  model.add(Dropout(0.2)) \n",
        "  model.add(Dense(512, activation = 'relu')) \n",
        "  model.add(Dropout(0.2)) \n",
        "  model.add(Dense(10, activation = 'softmax'))\n",
        "  return model"
      ],
      "execution_count": null,
      "outputs": []
    },
    {
      "cell_type": "code",
      "metadata": {
        "id": "M44clP3OMlcK"
      },
      "source": [
        "model = create_model()\n",
        "model.compile(loss = 'categorical_crossentropy', optimizer = RMSprop(),  metrics = ['accuracy']) "
      ],
      "execution_count": null,
      "outputs": []
    },
    {
      "cell_type": "code",
      "metadata": {
        "colab": {
          "base_uri": "https://localhost:8080/"
        },
        "id": "p3Bzo1rvMn2L",
        "outputId": "8cce0d2d-0dc1-41db-e189-7f1ca498aa71"
      },
      "source": [
        "history = model.fit(x_train, y_train, batch_size = 128, epochs = 20, verbose = 1, validation_data = (x_test, y_test))\n"
      ],
      "execution_count": null,
      "outputs": [
        {
          "output_type": "stream",
          "text": [
            "Epoch 1/20\n",
            "383/383 [==============================] - 2s 4ms/step - loss: 0.4527 - accuracy: 0.8552 - val_loss: 0.1230 - val_accuracy: 0.9612\n",
            "Epoch 2/20\n",
            "383/383 [==============================] - 2s 4ms/step - loss: 0.1121 - accuracy: 0.9648 - val_loss: 0.0948 - val_accuracy: 0.9712\n",
            "Epoch 3/20\n",
            "383/383 [==============================] - 2s 4ms/step - loss: 0.0731 - accuracy: 0.9774 - val_loss: 0.0962 - val_accuracy: 0.9717\n",
            "Epoch 4/20\n",
            "383/383 [==============================] - 2s 4ms/step - loss: 0.0600 - accuracy: 0.9814 - val_loss: 0.0936 - val_accuracy: 0.9756\n",
            "Epoch 5/20\n",
            "383/383 [==============================] - 2s 4ms/step - loss: 0.0427 - accuracy: 0.9854 - val_loss: 0.0927 - val_accuracy: 0.9775\n",
            "Epoch 6/20\n",
            "383/383 [==============================] - 2s 4ms/step - loss: 0.0386 - accuracy: 0.9875 - val_loss: 0.1009 - val_accuracy: 0.9758\n",
            "Epoch 7/20\n",
            "383/383 [==============================] - 2s 4ms/step - loss: 0.0314 - accuracy: 0.9898 - val_loss: 0.0993 - val_accuracy: 0.9787\n",
            "Epoch 8/20\n",
            "383/383 [==============================] - 2s 4ms/step - loss: 0.0280 - accuracy: 0.9912 - val_loss: 0.1029 - val_accuracy: 0.9784\n",
            "Epoch 9/20\n",
            "383/383 [==============================] - 2s 4ms/step - loss: 0.0267 - accuracy: 0.9915 - val_loss: 0.1127 - val_accuracy: 0.9794\n",
            "Epoch 10/20\n",
            "383/383 [==============================] - 2s 4ms/step - loss: 0.0242 - accuracy: 0.9926 - val_loss: 0.1297 - val_accuracy: 0.9770\n",
            "Epoch 11/20\n",
            "383/383 [==============================] - 2s 4ms/step - loss: 0.0203 - accuracy: 0.9932 - val_loss: 0.1216 - val_accuracy: 0.9807\n",
            "Epoch 12/20\n",
            "383/383 [==============================] - 2s 4ms/step - loss: 0.0189 - accuracy: 0.9944 - val_loss: 0.1521 - val_accuracy: 0.9769\n",
            "Epoch 13/20\n",
            "383/383 [==============================] - 2s 4ms/step - loss: 0.0206 - accuracy: 0.9929 - val_loss: 0.1170 - val_accuracy: 0.9803\n",
            "Epoch 14/20\n",
            "383/383 [==============================] - 2s 4ms/step - loss: 0.0187 - accuracy: 0.9949 - val_loss: 0.1262 - val_accuracy: 0.9812\n",
            "Epoch 15/20\n",
            "383/383 [==============================] - 2s 4ms/step - loss: 0.0163 - accuracy: 0.9950 - val_loss: 0.1469 - val_accuracy: 0.9803\n",
            "Epoch 16/20\n",
            "383/383 [==============================] - 2s 4ms/step - loss: 0.0168 - accuracy: 0.9947 - val_loss: 0.1338 - val_accuracy: 0.9822\n",
            "Epoch 17/20\n",
            "383/383 [==============================] - 2s 4ms/step - loss: 0.0144 - accuracy: 0.9956 - val_loss: 0.1482 - val_accuracy: 0.9809\n",
            "Epoch 18/20\n",
            "383/383 [==============================] - 2s 4ms/step - loss: 0.0155 - accuracy: 0.9951 - val_loss: 0.1757 - val_accuracy: 0.9780\n",
            "Epoch 19/20\n",
            "383/383 [==============================] - 2s 4ms/step - loss: 0.0126 - accuracy: 0.9961 - val_loss: 0.1446 - val_accuracy: 0.9815\n",
            "Epoch 20/20\n",
            "383/383 [==============================] - 2s 4ms/step - loss: 0.0114 - accuracy: 0.9960 - val_loss: 0.1601 - val_accuracy: 0.9814\n"
          ],
          "name": "stdout"
        }
      ]
    }
  ]
}